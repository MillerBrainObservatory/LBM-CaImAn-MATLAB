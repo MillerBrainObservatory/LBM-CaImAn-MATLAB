{
 "cells": [
  {
   "cell_type": "code",
   "execution_count": 1,
   "id": "19cc1e0b-64c1-4579-b01a-a891ebffc595",
   "metadata": {
    "execution": {
     "iopub.execute_input": "2024-05-25T03:39:48.579902Z",
     "iopub.status.busy": "2024-05-25T03:39:48.579661Z",
     "iopub.status.idle": "2024-05-25T03:39:48.923849Z",
     "shell.execute_reply": "2024-05-25T03:39:48.923190Z",
     "shell.execute_reply.started": "2024-05-25T03:39:48.579876Z"
    }
   },
   "outputs": [],
   "source": [
    "import numpy as np\n",
    "import tifffile\n",
    "from pathlib import Path\n",
    "import dask.array as da"
   ]
  },
  {
   "cell_type": "code",
   "execution_count": null,
   "id": "1e8fe6f3-7faf-40e6-9a8e-b08b3afaaca4",
   "metadata": {},
   "outputs": [],
   "source": [
    "data = Path.home() / 'data'\n",
    "data.glob"
   ]
  }
 ],
 "metadata": {
  "kernelspec": {
   "display_name": "Python 3 (ipykernel)",
   "language": "python",
   "name": "python3"
  },
  "language_info": {
   "codemirror_mode": {
    "name": "ipython",
    "version": 3
   },
   "file_extension": ".py",
   "mimetype": "text/x-python",
   "name": "python",
   "nbconvert_exporter": "python",
   "pygments_lexer": "ipython3",
   "version": "3.9.18"
  }
 },
 "nbformat": 4,
 "nbformat_minor": 5
}
